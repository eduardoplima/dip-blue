{
 "cells": [
  {
   "cell_type": "code",
   "execution_count": 2,
   "id": "77f76750",
   "metadata": {},
   "outputs": [],
   "source": [
    "import os\n",
    "import pymssql\n",
    "import datetime\n",
    "import math\n",
    "\n",
    "import pandas as pd"
   ]
  },
  {
   "cell_type": "code",
   "execution_count": 3,
   "id": "4c82f64f",
   "metadata": {},
   "outputs": [
    {
     "data": {
      "text/plain": [
       "True"
      ]
     },
     "execution_count": 3,
     "metadata": {},
     "output_type": "execute_result"
    }
   ],
   "source": [
    "from dotenv import load_dotenv\n",
    "\n",
    "load_dotenv()"
   ]
  },
  {
   "cell_type": "code",
   "execution_count": 4,
   "id": "e16e4869",
   "metadata": {},
   "outputs": [],
   "source": [
    "def get_connection():\n",
    "    \"\"\"Establish a connection to the SQL Server database.\n",
    "    Returns:\n",
    "        pymssql.Connection: A connection object to the SQL Server database.\n",
    "    \"\"\"\n",
    "    return pymssql.connect(\n",
    "        server=os.getenv('SQL_SERVER_HOST'),\n",
    "        user=os.getenv('SQL_SERVER_USER'),\n",
    "        password=os.getenv('SQL_SERVER_PASS'),\n",
    "        database='processo'\n",
    "    )"
   ]
  },
  {
   "cell_type": "code",
   "execution_count": 5,
   "id": "72a8bc26",
   "metadata": {},
   "outputs": [],
   "source": [
    "numero_processo = '018129'\n",
    "ano_processo = '2017'\n",
    "\n",
    "query = f\"\"\"\n",
    "    SELECT p.idprocesso as id_processo, \n",
    "    NumeroProcesso as numero_processo, \n",
    "    AnoProcesso as ano_processo, \n",
    "    IdComposicaoPauta as id_composicao_pauta, \n",
    "    idVotoPauta as id_voto_pauta,\n",
    "    p.Assunto as assunto, \n",
    "    numero_sessao, \n",
    "    ano_sessao, \n",
    "    DataSessao as data_sessao,  \n",
    "    Relatorio as relatorio, \n",
    "    FundamentacaoVoto as fundamentacao_voto, \n",
    "    Conclusao as conclusao, \n",
    "    texto_acordao, \n",
    "    o.nome as orgao_responsavel, \n",
    "    o.IdOrgao as id_orgao_responsavel,\n",
    "    gp.Nome as nome_responsavel, \n",
    "    gp.Documento as documento_responsavel, \n",
    "    gp.TipoPessoa as tipo_responsavel, \n",
    "    gp.idpessoa as id_pessoa\n",
    "    FROM processo.dbo.vw_ia_votos_acordaos_decisoes ia \n",
    "    LEFT JOIN processo.dbo.processos p ON ia.NumeroProcesso = p.numero_processo  AND ia.AnoProcesso = p.ano_processo \n",
    "    LEFT JOIN processo.dbo.Orgaos o ON o.IdOrgao = p.IdOrgaoEnvolvido\n",
    "    LEFT JOIN processo.dbo.Pro_ProcessosResponsavelDespesa pprd ON p.IdProcesso = pprd.IdProcesso \n",
    "    LEFT JOIN processo.dbo.GenPessoa gp ON pprd.IdPessoa = gp.IdPessoa \n",
    "    WHERE p.numero_processo = {numero_processo}\n",
    "    AND p.ano_processo = {ano_processo}\n",
    "    \"\"\""
   ]
  },
  {
   "cell_type": "code",
   "execution_count": 6,
   "id": "76e2920b",
   "metadata": {},
   "outputs": [
    {
     "name": "stderr",
     "output_type": "stream",
     "text": [
      "C:\\Users\\05911205424\\AppData\\Local\\Temp\\ipykernel_5704\\1959158049.py:1: UserWarning: pandas only supports SQLAlchemy connectable (engine/connection) or database string URI or sqlite3 DBAPI2 connection. Other DBAPI2 objects are not tested. Please consider using SQLAlchemy.\n",
      "  df = pd.read_sql(query, get_connection())\n",
      "C:\\Users\\05911205424\\AppData\\Local\\Temp\\ipykernel_5704\\1959158049.py:13: FutureWarning: DataFrameGroupBy.apply operated on the grouping columns. This behavior is deprecated, and in a future version of pandas the grouping columns will be excluded from the operation. Either pass `include_groups=False` to exclude the groupings or explicitly select the grouping columns after groupby to silence this warning.\n",
      "  df = df.groupby(group_cols, dropna=False).apply(\n"
     ]
    }
   ],
   "source": [
    "df = pd.read_sql(query, get_connection())\n",
    "\n",
    "group_cols = [\n",
    "        'id_processo', 'numero_processo', 'ano_processo', 'id_composicao_pauta', 'assunto', \n",
    "        'id_voto_pauta', 'numero_sessao', 'ano_sessao', 'data_sessao', 'relatorio',\n",
    "        'fundamentacao_voto', 'conclusao', 'texto_acordao', 'orgao_responsavel', 'id_orgao_responsavel',\n",
    "]\n",
    "\n",
    "person_cols = ['nome_responsavel', 'documento_responsavel', 'tipo_responsavel', 'id_pessoa']\n",
    "\n",
    "# Agrupa o DataFrame e aplica uma função lambda para criar a lista de dicionários\n",
    "\n",
    "df = df.groupby(group_cols, dropna=False).apply(\n",
    "lambda x: pd.Series({'responsaveis': x[person_cols].apply(\n",
    "        lambda y: y.dropna().to_dict(), axis=1\n",
    ").tolist()})).reset_index()\n"
   ]
  },
  {
   "cell_type": "code",
   "execution_count": 7,
   "id": "761a5f77",
   "metadata": {},
   "outputs": [
    {
     "data": {
      "text/html": [
       "<div>\n",
       "<style scoped>\n",
       "    .dataframe tbody tr th:only-of-type {\n",
       "        vertical-align: middle;\n",
       "    }\n",
       "\n",
       "    .dataframe tbody tr th {\n",
       "        vertical-align: top;\n",
       "    }\n",
       "\n",
       "    .dataframe thead th {\n",
       "        text-align: right;\n",
       "    }\n",
       "</style>\n",
       "<table border=\"1\" class=\"dataframe\">\n",
       "  <thead>\n",
       "    <tr style=\"text-align: right;\">\n",
       "      <th></th>\n",
       "      <th>id_processo</th>\n",
       "      <th>numero_processo</th>\n",
       "      <th>ano_processo</th>\n",
       "      <th>id_composicao_pauta</th>\n",
       "      <th>assunto</th>\n",
       "      <th>id_voto_pauta</th>\n",
       "      <th>numero_sessao</th>\n",
       "      <th>ano_sessao</th>\n",
       "      <th>data_sessao</th>\n",
       "      <th>relatorio</th>\n",
       "      <th>fundamentacao_voto</th>\n",
       "      <th>conclusao</th>\n",
       "      <th>texto_acordao</th>\n",
       "      <th>orgao_responsavel</th>\n",
       "      <th>id_orgao_responsavel</th>\n",
       "      <th>responsaveis</th>\n",
       "    </tr>\n",
       "  </thead>\n",
       "  <tbody>\n",
       "    <tr>\n",
       "      <th>0</th>\n",
       "      <td>463315</td>\n",
       "      <td>018129</td>\n",
       "      <td>2017</td>\n",
       "      <td>112913</td>\n",
       "      <td>APRECIAÇÃO DE CONCESSÃO DE APOSENTADORIA      ...</td>\n",
       "      <td>36117</td>\n",
       "      <td>00089</td>\n",
       "      <td>2023</td>\n",
       "      <td>2023-12-12 00:00:00</td>\n",
       "      <td>I - RELATÓRIO\\r\\n\\r\\nVersam os autos acerca da...</td>\n",
       "      <td>II – FUNDAMENTAÇÃO\\r\\n\\r\\nA matéria sob exame ...</td>\n",
       "      <td>III – CONCLUSÃO\\r\\n\\r\\nAnte o exposto, em harm...</td>\n",
       "      <td>DECIDEM os Conselheiros do Tribunal de Contas ...</td>\n",
       "      <td>SECRETARIA DE ESTADO DA SAÚDE PUBLICA</td>\n",
       "      <td>521</td>\n",
       "      <td>[{'nome_responsavel': 'RAQUEL VICENTE DA SILVA...</td>\n",
       "    </tr>\n",
       "    <tr>\n",
       "      <th>1</th>\n",
       "      <td>463315</td>\n",
       "      <td>018129</td>\n",
       "      <td>2017</td>\n",
       "      <td>120725</td>\n",
       "      <td>APRECIAÇÃO DE CONCESSÃO DE APOSENTADORIA      ...</td>\n",
       "      <td>43982</td>\n",
       "      <td>0013V</td>\n",
       "      <td>2025</td>\n",
       "      <td>2025-07-14 10:00:00</td>\n",
       "      <td>I RELATÓRIO.\\r\\n\\r\\n\\r\\n\\r\\nEm exame, para fin...</td>\n",
       "      <td>II. FUNDAMENTAÇÃO\\r\\n\\r\\n\\r\\n\\r\\nInicialmente,...</td>\n",
       "      <td>III DISPOSITIVO.\\r\\n\\r\\n\\r\\n\\r\\nNesses termos,...</td>\n",
       "      <td>Vistos, relatados e discutidos estes autos, AC...</td>\n",
       "      <td>SECRETARIA DE ESTADO DA SAÚDE PUBLICA</td>\n",
       "      <td>521</td>\n",
       "      <td>[{'nome_responsavel': 'RAQUEL VICENTE DA SILVA...</td>\n",
       "    </tr>\n",
       "  </tbody>\n",
       "</table>\n",
       "</div>"
      ],
      "text/plain": [
       "   id_processo numero_processo ano_processo  id_composicao_pauta  \\\n",
       "0       463315          018129         2017               112913   \n",
       "1       463315          018129         2017               120725   \n",
       "\n",
       "                                             assunto  id_voto_pauta  \\\n",
       "0  APRECIAÇÃO DE CONCESSÃO DE APOSENTADORIA      ...          36117   \n",
       "1  APRECIAÇÃO DE CONCESSÃO DE APOSENTADORIA      ...          43982   \n",
       "\n",
       "  numero_sessao ano_sessao         data_sessao  \\\n",
       "0         00089       2023 2023-12-12 00:00:00   \n",
       "1         0013V       2025 2025-07-14 10:00:00   \n",
       "\n",
       "                                           relatorio  \\\n",
       "0  I - RELATÓRIO\\r\\n\\r\\nVersam os autos acerca da...   \n",
       "1  I RELATÓRIO.\\r\\n\\r\\n\\r\\n\\r\\nEm exame, para fin...   \n",
       "\n",
       "                                  fundamentacao_voto  \\\n",
       "0  II – FUNDAMENTAÇÃO\\r\\n\\r\\nA matéria sob exame ...   \n",
       "1  II. FUNDAMENTAÇÃO\\r\\n\\r\\n\\r\\n\\r\\nInicialmente,...   \n",
       "\n",
       "                                           conclusao  \\\n",
       "0  III – CONCLUSÃO\\r\\n\\r\\nAnte o exposto, em harm...   \n",
       "1  III DISPOSITIVO.\\r\\n\\r\\n\\r\\n\\r\\nNesses termos,...   \n",
       "\n",
       "                                       texto_acordao  \\\n",
       "0  DECIDEM os Conselheiros do Tribunal de Contas ...   \n",
       "1  Vistos, relatados e discutidos estes autos, AC...   \n",
       "\n",
       "                       orgao_responsavel  id_orgao_responsavel  \\\n",
       "0  SECRETARIA DE ESTADO DA SAÚDE PUBLICA                   521   \n",
       "1  SECRETARIA DE ESTADO DA SAÚDE PUBLICA                   521   \n",
       "\n",
       "                                        responsaveis  \n",
       "0  [{'nome_responsavel': 'RAQUEL VICENTE DA SILVA...  \n",
       "1  [{'nome_responsavel': 'RAQUEL VICENTE DA SILVA...  "
      ]
     },
     "execution_count": 7,
     "metadata": {},
     "output_type": "execute_result"
    }
   ],
   "source": [
    "df"
   ]
  },
  {
   "cell_type": "code",
   "execution_count": 9,
   "id": "adc7fa6f",
   "metadata": {},
   "outputs": [],
   "source": [
    "id_processo = df.iloc[0].id_processo"
   ]
  },
  {
   "cell_type": "code",
   "execution_count": 10,
   "id": "833575ad",
   "metadata": {},
   "outputs": [
    {
     "data": {
      "text/plain": [
       "np.int64(463315)"
      ]
     },
     "execution_count": 10,
     "metadata": {},
     "output_type": "execute_result"
    }
   ],
   "source": [
    "id_processo"
   ]
  },
  {
   "cell_type": "code",
   "execution_count": 11,
   "id": "11488682",
   "metadata": {},
   "outputs": [],
   "source": [
    "from models import (\n",
    "    ObrigacaoORM, \n",
    "    RecomendacaoORM, \n",
    "    CancelamentoObrigacao, \n",
    "    CancelamentoRecomendacao, \n",
    "    engine_dip,\n",
    "    get_db_dip,\n",
    "    BaseDIP\n",
    ")"
   ]
  },
  {
   "cell_type": "code",
   "execution_count": 15,
   "id": "464ba686",
   "metadata": {},
   "outputs": [],
   "source": [
    "db_dip = next(get_db_dip())"
   ]
  },
  {
   "cell_type": "code",
   "execution_count": 17,
   "id": "23d26b1b",
   "metadata": {},
   "outputs": [
    {
     "data": {
      "text/plain": [
       "[<models.ObrigacaoORM at 0x1ce16af5e50>]"
      ]
     },
     "execution_count": 17,
     "metadata": {},
     "output_type": "execute_result"
    }
   ],
   "source": [
    "db_dip.query(ObrigacaoORM).filter(ObrigacaoORM.IdProcesso == int(id_processo)).all()"
   ]
  },
  {
   "cell_type": "code",
   "execution_count": null,
   "id": "0568786d",
   "metadata": {},
   "outputs": [],
   "source": []
  }
 ],
 "metadata": {
  "kernelspec": {
   "display_name": ".venv",
   "language": "python",
   "name": "python3"
  },
  "language_info": {
   "codemirror_mode": {
    "name": "ipython",
    "version": 3
   },
   "file_extension": ".py",
   "mimetype": "text/x-python",
   "name": "python",
   "nbconvert_exporter": "python",
   "pygments_lexer": "ipython3",
   "version": "3.12.10"
  }
 },
 "nbformat": 4,
 "nbformat_minor": 5
}
