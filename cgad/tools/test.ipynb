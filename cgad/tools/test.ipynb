{
 "cells": [
  {
   "cell_type": "code",
   "execution_count": 3,
   "id": "aa2e495b",
   "metadata": {},
   "outputs": [
    {
     "data": {
      "text/plain": [
       "True"
      ]
     },
     "execution_count": 3,
     "metadata": {},
     "output_type": "execute_result"
    }
   ],
   "source": [
    "import os\n",
    "import pymssql\n",
    "\n",
    "import pandas as pd\n",
    "\n",
    "from dotenv import load_dotenv\n",
    "\n",
    "load_dotenv()"
   ]
  },
  {
   "cell_type": "code",
   "execution_count": 6,
   "id": "65afdf86",
   "metadata": {},
   "outputs": [],
   "source": [
    "DATABASE_URL_PROCESSO = f\"mssql+pymssql://{os.getenv('SQL_SERVER_USER')}:{os.getenv('SQL_SERVER_PASS')}@{os.getenv('SQL_SERVER_HOST')}/processo\"\n",
    "\n",
    "def get_connection():\n",
    "    \"\"\"Establish a connection to the SQL Server database.\n",
    "    Returns:\n",
    "        pymssql.Connection: A connection object to the SQL Server database.\n",
    "    \"\"\"\n",
    "    return pymssql.connect(\n",
    "        server=os.getenv('SQL_SERVER_HOST'),\n",
    "        user=os.getenv('SQL_SERVER_USER'),\n",
    "        password=os.getenv('SQL_SERVER_PASS'),\n",
    "        database='processo'\n",
    "    )"
   ]
  },
  {
   "cell_type": "code",
   "execution_count": null,
   "id": "0f472576",
   "metadata": {},
   "outputs": [],
   "source": [
    "numero_processo = '008348'\n",
    "ano_processo = 2016\n",
    "\n",
    "query = f\"\"\"\n",
    "SELECT p.idprocesso as id_processo, NumeroProcesso as numero_processo, AnoProcesso as ano_processo, \n",
    " IdComposicaoPauta as id_composicao_pauta, idVotoPauta as id_voto_pauta, \n",
    "numero_sessao, ano_sessao, DataSessao as data_sessao,  \n",
    "Relatorio as relatorio, FundamentacaoVoto as fundamentacao_voto, \n",
    "Conclusao as conclusao, texto_acordao, o.nome as orgao_responsavel, o.IdOrgao as id_orgao_responsavel,\n",
    "gp.Nome as nome_responsavel, gp.Documento as documento_responsavel, gp.TipoPessoa as tipo_responsavel, gp.idpessoa as id_pessoa\n",
    "FROM processo.dbo.vw_ia_votos_acordaos_decisoes ia \n",
    "LEFT JOIN processo.dbo.processos p ON ia.NumeroProcesso = p.numero_processo  AND ia.AnoProcesso = p.ano_processo \n",
    "LEFT JOIN processo.dbo.Orgaos o ON o.IdOrgao = p.IdOrgaoEnvolvido\n",
    "LEFT JOIN processo.dbo.Pro_ProcessosResponsavelDespesa pprd ON p.IdProcesso = pprd.IdProcesso \n",
    "LEFT JOIN processo.dbo.GenPessoa gp ON pprd.IdPessoa = gp.IdPessoa \n",
    "WHERE p.numero_processo = {numero_processo}\n",
    "AND p.ano_processo = {ano_processo}\n",
    "\"\"\""
   ]
  },
  {
   "cell_type": "code",
   "execution_count": 24,
   "id": "064171ef",
   "metadata": {},
   "outputs": [],
   "source": [
    "def get_df_decisao(numero_processo, ano_processo):\n",
    "    query = f\"\"\"\n",
    "    SELECT p.idprocesso as id_processo, NumeroProcesso as numero_processo, AnoProcesso as ano_processo, \n",
    "    IdComposicaoPauta as id_composicao_pauta, idVotoPauta as id_voto_pauta, \n",
    "    numero_sessao, ano_sessao, DataSessao as data_sessao,  \n",
    "    Relatorio as relatorio, FundamentacaoVoto as fundamentacao_voto, \n",
    "    Conclusao as conclusao, texto_acordao, o.nome as orgao_responsavel, o.IdOrgao as id_orgao_responsavel,\n",
    "    gp.Nome as nome_responsavel, gp.Documento as documento_responsavel, gp.TipoPessoa as tipo_responsavel, gp.idpessoa as id_pessoa\n",
    "    FROM processo.dbo.vw_ia_votos_acordaos_decisoes ia \n",
    "    LEFT JOIN processo.dbo.processos p ON ia.NumeroProcesso = p.numero_processo  AND ia.AnoProcesso = p.ano_processo \n",
    "    LEFT JOIN processo.dbo.Orgaos o ON o.IdOrgao = p.IdOrgaoEnvolvido\n",
    "    LEFT JOIN processo.dbo.Pro_ProcessosResponsavelDespesa pprd ON p.IdProcesso = pprd.IdProcesso \n",
    "    LEFT JOIN processo.dbo.GenPessoa gp ON pprd.IdPessoa = gp.IdPessoa \n",
    "    WHERE p.numero_processo = {numero_processo}\n",
    "    AND p.ano_processo = {ano_processo}\n",
    "    \"\"\"\n",
    "\n",
    "    df = pd.read_sql(query, get_connection())\n",
    "\n",
    "    group_cols = [\n",
    "            'id_processo', 'numero_processo', 'ano_processo', 'id_composicao_pauta', \n",
    "            'id_voto_pauta', 'numero_sessao', 'ano_sessao', 'data_sessao', 'relatorio',\n",
    "            'fundamentacao_voto', 'conclusao', 'texto_acordao', 'orgao_responsavel', 'id_orgao_responsavel',\n",
    "    ]\n",
    "\n",
    "    # Define as colunas para criar o dicionário de pessoas\n",
    "    person_cols = ['nome_responsavel', 'documento_responsavel', 'tipo_responsavel', 'id_pessoa']\n",
    "\n",
    "    # Agrupa o DataFrame e aplica uma função lambda para criar a lista de dicionários\n",
    "    df = df.groupby(group_cols, dropna=False).apply(\n",
    "        lambda x: pd.Series({'responsaveis': x[person_cols].apply(\n",
    "            lambda y: y.dropna().to_dict(), axis=1\n",
    "        ).tolist()})\n",
    "    ).reset_index()\n",
    "\n",
    "\n",
    "    df= df[['id_composicao_pauta', 'id_voto_pauta']].merge(df, on=['id_composicao_pauta', 'id_voto_pauta'], how='left')\n",
    "    df['data_sessao'] = pd.to_datetime(df['data_sessao'], errors='coerce')\n",
    "\n",
    "    return df"
   ]
  },
  {
   "cell_type": "code",
   "execution_count": 25,
   "id": "e9cf7534",
   "metadata": {},
   "outputs": [
    {
     "name": "stderr",
     "output_type": "stream",
     "text": [
      "C:\\Users\\05911205424\\AppData\\Local\\Temp\\ipykernel_7188\\1212765339.py:18: UserWarning: pandas only supports SQLAlchemy connectable (engine/connection) or database string URI or sqlite3 DBAPI2 connection. Other DBAPI2 objects are not tested. Please consider using SQLAlchemy.\n",
      "  df = pd.read_sql(query, get_connection())\n",
      "C:\\Users\\05911205424\\AppData\\Local\\Temp\\ipykernel_7188\\1212765339.py:30: FutureWarning: DataFrameGroupBy.apply operated on the grouping columns. This behavior is deprecated, and in a future version of pandas the grouping columns will be excluded from the operation. Either pass `include_groups=False` to exclude the groupings or explicitly select the grouping columns after groupby to silence this warning.\n",
      "  df = df.groupby(group_cols, dropna=False).apply(\n"
     ]
    }
   ],
   "source": [
    "numero_processo = '008348'\n",
    "ano_processo = 2016\n",
    "\n",
    "df = get_df_decisao(numero_processo, ano_processo)"
   ]
  },
  {
   "cell_type": "code",
   "execution_count": 26,
   "id": "c8f23cb1",
   "metadata": {},
   "outputs": [
    {
     "data": {
      "text/html": [
       "<div>\n",
       "<style scoped>\n",
       "    .dataframe tbody tr th:only-of-type {\n",
       "        vertical-align: middle;\n",
       "    }\n",
       "\n",
       "    .dataframe tbody tr th {\n",
       "        vertical-align: top;\n",
       "    }\n",
       "\n",
       "    .dataframe thead th {\n",
       "        text-align: right;\n",
       "    }\n",
       "</style>\n",
       "<table border=\"1\" class=\"dataframe\">\n",
       "  <thead>\n",
       "    <tr style=\"text-align: right;\">\n",
       "      <th></th>\n",
       "      <th>id_composicao_pauta</th>\n",
       "      <th>id_voto_pauta</th>\n",
       "      <th>id_processo</th>\n",
       "      <th>numero_processo</th>\n",
       "      <th>ano_processo</th>\n",
       "      <th>numero_sessao</th>\n",
       "      <th>ano_sessao</th>\n",
       "      <th>data_sessao</th>\n",
       "      <th>relatorio</th>\n",
       "      <th>fundamentacao_voto</th>\n",
       "      <th>conclusao</th>\n",
       "      <th>texto_acordao</th>\n",
       "      <th>orgao_responsavel</th>\n",
       "      <th>id_orgao_responsavel</th>\n",
       "      <th>responsaveis</th>\n",
       "    </tr>\n",
       "  </thead>\n",
       "  <tbody>\n",
       "    <tr>\n",
       "      <th>0</th>\n",
       "      <td>118008</td>\n",
       "      <td>42430</td>\n",
       "      <td>412889</td>\n",
       "      <td>008348</td>\n",
       "      <td>2016</td>\n",
       "      <td>0017V</td>\n",
       "      <td>2024</td>\n",
       "      <td>2024-11-25 07:00:00</td>\n",
       "      <td>Conforme documentado pela DIRETORIA DE ATOS E ...</td>\n",
       "      <td>Exaro juízo positivo para presidir a relatoria...</td>\n",
       "      <td>Com fundamento no parecer ministerial apensado...</td>\n",
       "      <td>Vistos, relatados e discutidos estes autos, co...</td>\n",
       "      <td>TRIBUNAL DE CONTAS DO ESTADO</td>\n",
       "      <td>532</td>\n",
       "      <td>[{'nome_responsavel': 'MANOEL LINO BEZERRA', '...</td>\n",
       "    </tr>\n",
       "  </tbody>\n",
       "</table>\n",
       "</div>"
      ],
      "text/plain": [
       "   id_composicao_pauta  id_voto_pauta  id_processo numero_processo  \\\n",
       "0               118008          42430       412889          008348   \n",
       "\n",
       "  ano_processo numero_sessao ano_sessao         data_sessao  \\\n",
       "0         2016         0017V       2024 2024-11-25 07:00:00   \n",
       "\n",
       "                                           relatorio  \\\n",
       "0  Conforme documentado pela DIRETORIA DE ATOS E ...   \n",
       "\n",
       "                                  fundamentacao_voto  \\\n",
       "0  Exaro juízo positivo para presidir a relatoria...   \n",
       "\n",
       "                                           conclusao  \\\n",
       "0  Com fundamento no parecer ministerial apensado...   \n",
       "\n",
       "                                       texto_acordao  \\\n",
       "0  Vistos, relatados e discutidos estes autos, co...   \n",
       "\n",
       "              orgao_responsavel  id_orgao_responsavel  \\\n",
       "0  TRIBUNAL DE CONTAS DO ESTADO                   532   \n",
       "\n",
       "                                        responsaveis  \n",
       "0  [{'nome_responsavel': 'MANOEL LINO BEZERRA', '...  "
      ]
     },
     "execution_count": 26,
     "metadata": {},
     "output_type": "execute_result"
    }
   ],
   "source": [
    "df"
   ]
  },
  {
   "cell_type": "code",
   "execution_count": 21,
   "id": "ab81e224",
   "metadata": {},
   "outputs": [
    {
     "name": "stderr",
     "output_type": "stream",
     "text": [
      "C:\\Users\\05911205424\\AppData\\Local\\Temp\\ipykernel_7188\\1623314607.py:1: UserWarning: pandas only supports SQLAlchemy connectable (engine/connection) or database string URI or sqlite3 DBAPI2 connection. Other DBAPI2 objects are not tested. Please consider using SQLAlchemy.\n",
      "  df = pd.read_sql(query, get_connection())\n",
      "C:\\Users\\05911205424\\AppData\\Local\\Temp\\ipykernel_7188\\1623314607.py:13: FutureWarning: DataFrameGroupBy.apply operated on the grouping columns. This behavior is deprecated, and in a future version of pandas the grouping columns will be excluded from the operation. Either pass `include_groups=False` to exclude the groupings or explicitly select the grouping columns after groupby to silence this warning.\n",
      "  df = df.groupby(group_cols, dropna=False).apply(\n"
     ]
    }
   ],
   "source": [
    "df = pd.read_sql(query, get_connection())\n",
    "\n",
    "group_cols = [\n",
    "        'id_processo', 'numero_processo', 'ano_processo', 'id_composicao_pauta', \n",
    "        'id_voto_pauta', 'numero_sessao', 'ano_sessao', 'data_sessao', 'relatorio',\n",
    "        'fundamentacao_voto', 'conclusao', 'texto_acordao', 'orgao_responsavel', 'id_orgao_responsavel',\n",
    "]\n",
    "\n",
    "# Define as colunas para criar o dicionário de pessoas\n",
    "person_cols = ['nome_responsavel', 'documento_responsavel', 'tipo_responsavel', 'id_pessoa']\n",
    "\n",
    "# Agrupa o DataFrame e aplica uma função lambda para criar a lista de dicionários\n",
    "df = df.groupby(group_cols, dropna=False).apply(\n",
    "    lambda x: pd.Series({'responsaveis': x[person_cols].apply(\n",
    "        lambda y: y.dropna().to_dict(), axis=1\n",
    "    ).tolist()})\n",
    ").reset_index()\n",
    "\n",
    "\n",
    "df_ob = df[['id_composicao_pauta', 'id_voto_pauta']].merge(df, on=['id_composicao_pauta', 'id_voto_pauta'], how='left')\n",
    "df_ob['data_sessao'] = pd.to_datetime(df_ob['data_sessao'], errors='coerce')"
   ]
  },
  {
   "cell_type": "code",
   "execution_count": 23,
   "id": "e8d370b7",
   "metadata": {},
   "outputs": [
    {
     "data": {
      "text/html": [
       "<div>\n",
       "<style scoped>\n",
       "    .dataframe tbody tr th:only-of-type {\n",
       "        vertical-align: middle;\n",
       "    }\n",
       "\n",
       "    .dataframe tbody tr th {\n",
       "        vertical-align: top;\n",
       "    }\n",
       "\n",
       "    .dataframe thead th {\n",
       "        text-align: right;\n",
       "    }\n",
       "</style>\n",
       "<table border=\"1\" class=\"dataframe\">\n",
       "  <thead>\n",
       "    <tr style=\"text-align: right;\">\n",
       "      <th></th>\n",
       "      <th>id_composicao_pauta</th>\n",
       "      <th>id_voto_pauta</th>\n",
       "      <th>id_processo</th>\n",
       "      <th>numero_processo</th>\n",
       "      <th>ano_processo</th>\n",
       "      <th>numero_sessao</th>\n",
       "      <th>ano_sessao</th>\n",
       "      <th>data_sessao</th>\n",
       "      <th>relatorio</th>\n",
       "      <th>fundamentacao_voto</th>\n",
       "      <th>conclusao</th>\n",
       "      <th>texto_acordao</th>\n",
       "      <th>orgao_responsavel</th>\n",
       "      <th>id_orgao_responsavel</th>\n",
       "      <th>responsaveis</th>\n",
       "    </tr>\n",
       "  </thead>\n",
       "  <tbody>\n",
       "    <tr>\n",
       "      <th>0</th>\n",
       "      <td>118008</td>\n",
       "      <td>42430</td>\n",
       "      <td>412889</td>\n",
       "      <td>008348</td>\n",
       "      <td>2016</td>\n",
       "      <td>0017V</td>\n",
       "      <td>2024</td>\n",
       "      <td>2024-11-25 07:00:00</td>\n",
       "      <td>Conforme documentado pela DIRETORIA DE ATOS E ...</td>\n",
       "      <td>Exaro juízo positivo para presidir a relatoria...</td>\n",
       "      <td>Com fundamento no parecer ministerial apensado...</td>\n",
       "      <td>Vistos, relatados e discutidos estes autos, co...</td>\n",
       "      <td>TRIBUNAL DE CONTAS DO ESTADO</td>\n",
       "      <td>532</td>\n",
       "      <td>[{'nome_responsavel': 'MANOEL LINO BEZERRA', '...</td>\n",
       "    </tr>\n",
       "  </tbody>\n",
       "</table>\n",
       "</div>"
      ],
      "text/plain": [
       "   id_composicao_pauta  id_voto_pauta  id_processo numero_processo  \\\n",
       "0               118008          42430       412889          008348   \n",
       "\n",
       "  ano_processo numero_sessao ano_sessao         data_sessao  \\\n",
       "0         2016         0017V       2024 2024-11-25 07:00:00   \n",
       "\n",
       "                                           relatorio  \\\n",
       "0  Conforme documentado pela DIRETORIA DE ATOS E ...   \n",
       "\n",
       "                                  fundamentacao_voto  \\\n",
       "0  Exaro juízo positivo para presidir a relatoria...   \n",
       "\n",
       "                                           conclusao  \\\n",
       "0  Com fundamento no parecer ministerial apensado...   \n",
       "\n",
       "                                       texto_acordao  \\\n",
       "0  Vistos, relatados e discutidos estes autos, co...   \n",
       "\n",
       "              orgao_responsavel  id_orgao_responsavel  \\\n",
       "0  TRIBUNAL DE CONTAS DO ESTADO                   532   \n",
       "\n",
       "                                        responsaveis  \n",
       "0  [{'nome_responsavel': 'MANOEL LINO BEZERRA', '...  "
      ]
     },
     "execution_count": 23,
     "metadata": {},
     "output_type": "execute_result"
    }
   ],
   "source": [
    "df_ob"
   ]
  },
  {
   "cell_type": "code",
   "execution_count": null,
   "id": "5fa1e9aa",
   "metadata": {},
   "outputs": [],
   "source": []
  }
 ],
 "metadata": {
  "kernelspec": {
   "display_name": ".venv",
   "language": "python",
   "name": "python3"
  },
  "language_info": {
   "codemirror_mode": {
    "name": "ipython",
    "version": 3
   },
   "file_extension": ".py",
   "mimetype": "text/x-python",
   "name": "python",
   "nbconvert_exporter": "python",
   "pygments_lexer": "ipython3",
   "version": "3.12.10"
  }
 },
 "nbformat": 4,
 "nbformat_minor": 5
}
