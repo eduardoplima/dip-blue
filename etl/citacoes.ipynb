{
 "cells": [
  {
   "cell_type": "markdown",
   "id": "addbc89a",
   "metadata": {},
   "source": [
    "# Análise de citações das obrigações e recomendações"
   ]
  },
  {
   "cell_type": "code",
   "execution_count": 1,
   "id": "5d73a646",
   "metadata": {},
   "outputs": [
    {
     "data": {
      "text/plain": [
       "True"
      ]
     },
     "execution_count": 1,
     "metadata": {},
     "output_type": "execute_result"
    }
   ],
   "source": [
    "import os\n",
    "import json\n",
    "\n",
    "import pandas as pd\n",
    "import numpy as np\n",
    "\n",
    "\n",
    "from pprint import pprint\n",
    "from langchain_openai import  AzureChatOpenAI, ChatOpenAI\n",
    "from dotenv import load_dotenv\n",
    "from sqlalchemy import (\n",
    "    create_engine, Column, Integer, String, Float, Date, Boolean, Text, JSON\n",
    ")\n",
    "from sqlalchemy.orm import declarative_base, sessionmaker\n",
    "from sqlalchemy.schema import DDL, CheckConstraint\n",
    "from tools.prompt import generate_few_shot_ner_prompts\n",
    "from tools.schema import (\n",
    "    NERDecisao,\n",
    "    Obrigacao\n",
    ")\n",
    "\n",
    "from datetime import timedelta\n",
    "\n",
    "\n",
    "load_dotenv()"
   ]
  },
  {
   "cell_type": "code",
   "execution_count": 3,
   "id": "14ab5304",
   "metadata": {},
   "outputs": [],
   "source": [
    "Base = declarative_base()\n",
    "engine = create_engine(\n",
    "    f\"mssql+pymssql://{os.getenv(\"SQL_SERVER_USER\")}:{os.getenv(\"SQL_SERVER_PASS\")}@{os.getenv(\"SQL_SERVER_HOST\")}/{os.getenv(\"SQL_SERVER_DB\")}\",\n",
    "    echo=True\n",
    ")\n",
    "SessionLocal = sessionmaker(bind=engine)"
   ]
  },
  {
   "cell_type": "code",
   "execution_count": null,
   "id": "e5db0065",
   "metadata": {},
   "outputs": [],
   "source": [
    "sql_citacoes = ''' \n",
    "SELECT IdObrigacao, IdProcesso, IdComposicaoPauta, IdVotoPauta, DescricaoObrigacao, DeFazer, Prazo, DataCumprimento, OrgaoResponsavel, IdOrgaoResponsavel, TemMultaCominatoria, NomeResponsavelMultaCominatoria, DocumentoResponsavelMultaCominatoria, IdPessoaMultaCominatoria, ValorMultaCominatoria, PeriodoMultaCominatoria, EMultaCominatoriaSolidaria, SolidariosMultaCominatoria, Cancelado\n",
    "FROM BdDIP.dbo.Obrigacao obr \n",
    "\tINNER JOIN processo.dbo.Processos pro ON obr.IdProcesso = pro.IdProcesso \n",
    "\tINNER JOIN processo.dbo.Cit_Citacoes cc ON cc.IdProcesso = pro.IdProcesso \n",
    "\n",
    "\n",
    "'''"
   ]
  }
 ],
 "metadata": {
  "kernelspec": {
   "display_name": ".venv",
   "language": "python",
   "name": "python3"
  },
  "language_info": {
   "codemirror_mode": {
    "name": "ipython",
    "version": 3
   },
   "file_extension": ".py",
   "mimetype": "text/x-python",
   "name": "python",
   "nbconvert_exporter": "python",
   "pygments_lexer": "ipython3",
   "version": "3.12.10"
  }
 },
 "nbformat": 4,
 "nbformat_minor": 5
}
